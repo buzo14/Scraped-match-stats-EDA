{
  "nbformat": 4,
  "nbformat_minor": 0,
  "metadata": {
    "colab": {
      "provenance": []
    },
    "kernelspec": {
      "name": "python3",
      "display_name": "Python 3"
    },
    "language_info": {
      "name": "python"
    }
  },
  "cells": [
    {
      "cell_type": "code",
      "execution_count": null,
      "metadata": {
        "id": "K-oARB4sHfqU"
      },
      "outputs": [],
      "source": [
        "import requests\n",
        "import pandas as pd\n",
        "from bs4 import BeautifulSoup\n",
        "import time"
      ]
    },
    {
      "cell_type": "code",
      "source": [
        "years = list(range(2023,2020, -1))\n",
        "all_matches = []\n",
        "standings_url = 'https://fbref.com/en/comps/12/2022-2023/2022-2023-La-Liga-Stats'\n",
        "\n",
        "for year in years:\n",
        "\n",
        "    standings_data = requests.get(standings_url)\n",
        "    soup = BeautifulSoup(standings_data.text)\n",
        "    standings_table = soup.select('table.stats_table')[0]\n",
        "\n",
        "    links = [l.get('href') for l in standings_table.find_all('a')]\n",
        "    links = [l for l in links if '/squads/' in l]\n",
        "    team_urls = [f\"https://fbref.com{l}\" for l in links]\n",
        "\n",
        "    previous_season = soup.select(\"a.prev\")[0].get(\"href\")\n",
        "    standings_url = f\"https://fbref.com{previous_season}\"\n",
        "\n",
        "    for team_url in team_urls:\n",
        "        team_name = team_url.split('/')[-1].replace('-Stats', '').replace('-', \" \")\n",
        "\n",
        "        data = requests.get(team_url)\n",
        "        try:\n",
        "            matches = pd.read_html(data.text, match='Scores & Fixtures')[0]\n",
        "        except ValueError:\n",
        "            continue\n",
        "\n",
        "        time.sleep(2)\n",
        "        soup = BeautifulSoup(data.text)\n",
        "        links = [l.get('href') for l in soup.find_all('a')]\n",
        "        links = [l for l in links if l and '/all_comps/shooting/' in l]\n",
        "\n",
        "        shooting_data = requests.get(f\"https://fbref.com{links[0]}\")\n",
        "        shooting = pd.read_html(shooting_data.text, match='Shooting')[0]\n",
        "        shooting.columns = shooting.columns.droplevel()\n",
        "\n",
        "        soup = BeautifulSoup(data.text)\n",
        "        links = [l.get('href') for l in soup.find_all('a')]\n",
        "        links = [l for l in links if l and '/all_comps/defense/' in l]\n",
        "\n",
        "        defense_data = requests.get(f\"https://fbref.com{links[0]}\")\n",
        "        defense = pd.read_html(defense_data.text, match='Defensive Actions')[0]\n",
        "        defense.columns = defense.columns.droplevel()\n",
        "\n",
        "        try:\n",
        "            team_data = matches.merge(shooting[['Date', 'Sh', 'SoT', 'SoT%', 'G/Sh', 'Dist', 'FK', 'PK', 'PKatt']], on=\"Date\")\n",
        "        except ValueError:\n",
        "            continue\n",
        "\n",
        "        try:\n",
        "            team_data = team_data.merge(defense[['Date', 'Def 3rd', 'Mid 3rd', 'Att 3rd', 'Tkl%', 'Lost', 'Int']], on='Date')\n",
        "        except ValueError:\n",
        "            continue\n",
        "\n",
        "        team_data = team_data[team_data['Comp'] == 'La Liga']\n",
        "        team_data['Season'] = year\n",
        "        team_data['team'] = team_name\n",
        "        all_matches.append(team_data)\n",
        "        time.sleep(2)"
      ],
      "metadata": {
        "id": "_G7s7HMrCacC"
      },
      "execution_count": null,
      "outputs": []
    },
    {
      "cell_type": "code",
      "source": [
        "match_df = pd.concat(all_matches)\n",
        "match_df.columns = [c.lower() for c in match_df.columns]\n",
        "match_df.to_csv(\"match_df\")\n",
        "match_df.head(10)"
      ],
      "metadata": {
        "id": "ztNEygK1lWSX"
      },
      "execution_count": null,
      "outputs": []
    },
    {
      "cell_type": "code",
      "source": [
        "match_df.shape"
      ],
      "metadata": {
        "id": "fg4DldEGeREy"
      },
      "execution_count": null,
      "outputs": []
    },
    {
      "cell_type": "code",
      "source": [],
      "metadata": {
        "id": "LaA2Qy6uCaMN"
      },
      "execution_count": null,
      "outputs": []
    }
  ]
}